{
 "cells": [
  {
   "cell_type": "code",
   "execution_count": 1,
   "metadata": {
    "collapsed": false
   },
   "outputs": [
    {
     "name": "stderr",
     "output_type": "stream",
     "text": [
      "/Users/francesco/miniconda/lib/python2.7/site-packages/pandas/computation/__init__.py:19: UserWarning: The installed version of numexpr 2.4.4 is not supported in pandas and will be not be used\n",
      "\n",
      "  UserWarning)\n"
     ]
    }
   ],
   "source": [
    "from nltk.tokenize import RegexpTokenizer\n",
    "import pandas as pd\n",
    "import gensim, logging\n",
    "import numpy as np"
   ]
  },
  {
   "cell_type": "code",
   "execution_count": 2,
   "metadata": {
    "collapsed": true
   },
   "outputs": [],
   "source": [
    "logging.basicConfig(format='%(asctime)s : %(Levelname)s : %(message)s', level=logging.INFO)"
   ]
  },
  {
   "cell_type": "code",
   "execution_count": 4,
   "metadata": {
    "collapsed": false
   },
   "outputs": [],
   "source": [
    "train_df = pd.read_csv('cikm_training_tweets.txt',header=None)\n",
    "#test_df = pd.read_csv('cikm_test_tweets.txt',header=None)\n",
    "#ex_df = pd.read_csv('example_tweets.txt',header=None)"
   ]
  },
  {
   "cell_type": "code",
   "execution_count": 5,
   "metadata": {
    "collapsed": false
   },
   "outputs": [
    {
     "data": {
      "text/plain": [
       "(3658338, 1)"
      ]
     },
     "execution_count": 5,
     "metadata": {},
     "output_type": "execute_result"
    }
   ],
   "source": [
    "train_df.shape"
   ]
  },
  {
   "cell_type": "code",
   "execution_count": 20,
   "metadata": {
    "collapsed": true
   },
   "outputs": [],
   "source": [
    "general_1 = train_df.iloc[0:1200000]"
   ]
  },
  {
   "cell_type": "code",
   "execution_count": 21,
   "metadata": {
    "collapsed": true
   },
   "outputs": [],
   "source": [
    "general_2 = train_df.iloc[1200001:2400000]"
   ]
  },
  {
   "cell_type": "code",
   "execution_count": 22,
   "metadata": {
    "collapsed": false
   },
   "outputs": [],
   "source": [
    "general_3 = train_df.iloc[2400001:]"
   ]
  },
  {
   "cell_type": "code",
   "execution_count": 26,
   "metadata": {
    "collapsed": true
   },
   "outputs": [],
   "source": [
    "general_1.to_csv('general_1.csv',header=False,index=False)"
   ]
  },
  {
   "cell_type": "code",
   "execution_count": 27,
   "metadata": {
    "collapsed": true
   },
   "outputs": [],
   "source": [
    "general_2.to_csv('general_2.csv',header=False,index=False)"
   ]
  },
  {
   "cell_type": "code",
   "execution_count": 28,
   "metadata": {
    "collapsed": true
   },
   "outputs": [],
   "source": [
    "general_3.to_csv('general_3.csv',header=False,index=False)"
   ]
  },
  {
   "cell_type": "code",
   "execution_count": null,
   "metadata": {
    "collapsed": true
   },
   "outputs": [],
   "source": []
  },
  {
   "cell_type": "code",
   "execution_count": null,
   "metadata": {
    "collapsed": true
   },
   "outputs": [],
   "source": []
  },
  {
   "cell_type": "code",
   "execution_count": null,
   "metadata": {
    "collapsed": true
   },
   "outputs": [],
   "source": []
  },
  {
   "cell_type": "code",
   "execution_count": null,
   "metadata": {
    "collapsed": true
   },
   "outputs": [],
   "source": []
  },
  {
   "cell_type": "code",
   "execution_count": 52,
   "metadata": {
    "collapsed": true
   },
   "outputs": [],
   "source": [
    "def read_df(df):\n",
    "    df_iter = df.iterrows()\n",
    "    str2lst = []\n",
    "    k = 200000\n",
    "    step = 200000\n",
    "    for i, row in df_iter:\n",
    "        #print row[0]\n",
    "        s = str(row[0])\n",
    "        tokenizer = RegexpTokenizer('\\w+')        \n",
    "        lst = tokenizer.tokenize(s)\n",
    "        for e in lst:\n",
    "            e.decode(encoding='utf-8', errors='ignore')\n",
    "        if i > k:\n",
    "            print(\"iteration: \" + str(k))\n",
    "            k += step\n",
    "        str2lst.append(lst)\n",
    "    return str2lst    "
   ]
  },
  {
   "cell_type": "code",
   "execution_count": 53,
   "metadata": {
    "collapsed": false
   },
   "outputs": [
    {
     "name": "stdout",
     "output_type": "stream",
     "text": [
      "iteration: 200000\n",
      "iteration: 400000\n",
      "iteration: 600000\n",
      "iteration: 800000\n",
      "iteration: 1000000\n",
      "iteration: 1200000\n",
      "iteration: 1400000\n",
      "iteration: 1600000\n",
      "iteration: 1800000\n",
      "iteration: 2000000\n",
      "iteration: 2200000\n",
      "iteration: 2400000\n",
      "iteration: 2600000\n",
      "iteration: 2800000\n",
      "iteration: 3000000\n",
      "iteration: 3200000\n",
      "iteration: 3400000\n",
      "iteration: 3600000\n"
     ]
    }
   ],
   "source": [
    "sentences = read_df(train_df)"
   ]
  },
  {
   "cell_type": "code",
   "execution_count": 54,
   "metadata": {
    "collapsed": false
   },
   "outputs": [
    {
     "name": "stdout",
     "output_type": "stream",
     "text": [
      "iteration: 1000000\n",
      "iteration: 2000000\n",
      "iteration: 3000000\n"
     ]
    }
   ],
   "source": [
    "k = 1000000\n",
    "step = 1000000\n",
    "i = 0\n",
    "l = []\n",
    "for lst in sentences:\n",
    "    i += 1\n",
    "    #print lst\n",
    "    if i > k:\n",
    "        print(\"iteration: \" + str(k))\n",
    "        k += step\n",
    "    lst_u = [s.decode('utf-8','ignore') for s in lst]\n",
    "    l.append(lst_u)\n",
    "#bigram.add_vocab(lst_u)"
   ]
  },
  {
   "cell_type": "code",
   "execution_count": 55,
   "metadata": {
    "collapsed": false
   },
   "outputs": [],
   "source": [
    "bigram = gensim.models.phrases.Phrases(l)"
   ]
  },
  {
   "cell_type": "code",
   "execution_count": 56,
   "metadata": {
    "collapsed": false
   },
   "outputs": [],
   "source": [
    "trigram = gensim.models.phrases.Phrases(bigram[l])"
   ]
  },
  {
   "cell_type": "code",
   "execution_count": 58,
   "metadata": {
    "collapsed": true
   },
   "outputs": [],
   "source": [
    "bigram.save('cikm_train_bi.txt')"
   ]
  },
  {
   "cell_type": "code",
   "execution_count": 59,
   "metadata": {
    "collapsed": true
   },
   "outputs": [],
   "source": [
    "trigram.save('cikm_train_tri.txt')"
   ]
  },
  {
   "cell_type": "code",
   "execution_count": 60,
   "metadata": {
    "collapsed": true
   },
   "outputs": [],
   "source": [
    "import random\n",
    "import time\n",
    "freq = 10\n",
    "size_NN = 280\n",
    "nbr_threads = 5"
   ]
  },
  {
   "cell_type": "code",
   "execution_count": 61,
   "metadata": {
    "collapsed": false
   },
   "outputs": [
    {
     "name": "stdout",
     "output_type": "stream",
     "text": [
      "building vocabulary completed in: 644.048655987\n"
     ]
    }
   ],
   "source": [
    "model = gensim.models.Word2Vec(min_count=freq,size=size_NN, workers=nbr_threads, alpha=0.025, min_alpha=0.025)  # use fixed learning rate\n",
    "start = time.time()\n",
    "model.build_vocab(trigram[bigram[l]])\n",
    "end = time.time()\n",
    "print(\"building vocabulary completed in: \" + str(end - start))"
   ]
  },
  {
   "cell_type": "code",
   "execution_count": 62,
   "metadata": {
    "collapsed": false
   },
   "outputs": [
    {
     "name": "stdout",
     "output_type": "stream",
     "text": [
      "starting epoch: 0\n",
      "shuffling completed in: 2.3429350853\n",
      "training completed in: 4074.53651595\n",
      "starting epoch: 1\n",
      "shuffling completed in: 2.27680706978\n",
      "training completed in: 4012.6652329\n",
      "starting epoch: 2\n",
      "shuffling completed in: 2.3128080368\n",
      "training completed in: 4000.8699441\n",
      "starting epoch: 3\n",
      "shuffling completed in: 2.28801107407\n",
      "training completed in: 4028.26297188\n",
      "starting epoch: 4\n",
      "shuffling completed in: 2.31799602509\n",
      "training completed in: 4000.11492801\n",
      "starting epoch: 5\n",
      "shuffling completed in: 2.35216903687\n",
      "training completed in: 4029.01341414\n",
      "starting epoch: 6\n",
      "shuffling completed in: 2.32800197601\n",
      "training completed in: 3989.63932109\n",
      "starting epoch: 7\n",
      "shuffling completed in: 2.3099629879\n",
      "training completed in: 4024.82909799\n",
      "starting epoch: 8\n",
      "shuffling completed in: 2.3010430336\n",
      "training completed in: 3995.10930204\n",
      "starting epoch: 9\n",
      "shuffling completed in: 2.35076117516\n",
      "training completed in: 4030.05321193\n"
     ]
    }
   ],
   "source": [
    "for epoch in range(10):\n",
    "    print('starting epoch: ' + str(epoch))\n",
    "    start = time.time()\n",
    "    random.shuffle(l)\n",
    "    end = time.time()\n",
    "    print(\"shuffling completed in: \" + str(end - start))\n",
    "    start = time.time()\n",
    "    model.train(trigram[bigram[l]])\n",
    "    model.save('cikm_train_' + str(epoch) + '.txt')\n",
    "    end = time.time()\n",
    "    print(\"training completed in: \" + str(end - start))\n",
    "    #model.alpha -= 0.002  # decrease the learning rate\n",
    "    #model.min_alpha = model.alpha  # fix the learning rate, no decay"
   ]
  },
  {
   "cell_type": "code",
   "execution_count": 63,
   "metadata": {
    "collapsed": true
   },
   "outputs": [],
   "source": [
    "model.save('cikm_training_model.txt')"
   ]
  },
  {
   "cell_type": "code",
   "execution_count": 64,
   "metadata": {
    "collapsed": false
   },
   "outputs": [],
   "source": [
    "model.init_sims(replace=True)"
   ]
  },
  {
   "cell_type": "code",
   "execution_count": 65,
   "metadata": {
    "collapsed": false
   },
   "outputs": [
    {
     "data": {
      "text/plain": [
       "array([ 0.10670493, -0.02446322, -0.06322803, -0.05775024, -0.03500049,\n",
       "       -0.05012653, -0.01246026, -0.02150998,  0.05206715, -0.08702337,\n",
       "       -0.01110952,  0.00710377, -0.08394822, -0.03541967,  0.06887457,\n",
       "        0.00813932,  0.07131165, -0.00285849,  0.03620389,  0.05662008,\n",
       "        0.00154496, -0.0224531 ,  0.03198206,  0.0947962 ,  0.08038258,\n",
       "       -0.01177219,  0.00952672, -0.03505873, -0.01696639,  0.01818147,\n",
       "        0.0839735 , -0.02110591,  0.02274374,  0.08800644,  0.00863805,\n",
       "        0.06114431, -0.06555174,  0.11428583, -0.01764347,  0.00470407,\n",
       "       -0.11361066, -0.14119987, -0.0130884 ,  0.15760145, -0.03983371,\n",
       "        0.06915047,  0.08124091,  0.08422206, -0.16422004, -0.02655279,\n",
       "        0.04046526, -0.0029766 ,  0.10423484,  0.00723427, -0.00080819,\n",
       "       -0.08020814,  0.02822394,  0.01016829,  0.02648609,  0.075524  ,\n",
       "       -0.00223604,  0.00904683,  0.04006661,  0.08327244, -0.0036042 ,\n",
       "        0.00195833,  0.08902995, -0.04331978,  0.07060447, -0.01250432,\n",
       "        0.01162503, -0.05768073, -0.01344583, -0.01704119, -0.04028776,\n",
       "       -0.12442029,  0.06521382,  0.11052862, -0.08210271,  0.10166227,\n",
       "       -0.06120215,  0.03071497,  0.04528332,  0.04654015, -0.0533082 ,\n",
       "       -0.07641525,  0.06725802, -0.03913047,  0.00857439,  0.04268086,\n",
       "        0.02019502, -0.03652473,  0.0414206 ,  0.02637023, -0.13675697,\n",
       "       -0.12788133,  0.11421716,  0.01140491,  0.0270933 ,  0.0246561 ,\n",
       "        0.0083028 ,  0.07636973,  0.02699365,  0.0315654 ,  0.13019221,\n",
       "        0.10879795, -0.00438118, -0.03440504, -0.02758718, -0.06806658,\n",
       "        0.04890419,  0.01295574,  0.01193481, -0.01223412, -0.02769764,\n",
       "        0.10095121, -0.06139796, -0.01955145, -0.05081743,  0.05744046,\n",
       "        0.05671802, -0.09006912,  0.06735344,  0.13662618, -0.06333262,\n",
       "        0.0421344 , -0.02025081, -0.06742544,  0.03018475, -0.03891644,\n",
       "        0.06339276,  0.07744386, -0.04673886, -0.01187495, -0.02702607,\n",
       "       -0.1040023 , -0.00726797,  0.06056692,  0.01776292, -0.02224349,\n",
       "       -0.02593286,  0.05085202,  0.03633318,  0.06223471,  0.04778587,\n",
       "        0.05650359, -0.02229947, -0.0074154 , -0.09904148,  0.0561891 ,\n",
       "       -0.07627153, -0.06200482,  0.06032845, -0.0924391 ,  0.04347002,\n",
       "        0.06741522, -0.00174267, -0.07280438, -0.03173093, -0.04003387,\n",
       "        0.00874501, -0.06723509, -0.00199973, -0.04358105, -0.05989913,\n",
       "       -0.04194275, -0.08165215,  0.14736132,  0.131264  , -0.00395981,\n",
       "       -0.08523165, -0.02565439, -0.00448711, -0.03617203, -0.00786846,\n",
       "        0.0266266 , -0.05567769,  0.00690987,  0.07855207,  0.0260161 ,\n",
       "       -0.06184169, -0.07780685, -0.02393848,  0.03955733,  0.01027661,\n",
       "        0.01282229,  0.07133155, -0.05569517,  0.08844062, -0.09479418,\n",
       "       -0.04205038, -0.0263601 , -0.09622516,  0.02416144, -0.05680624,\n",
       "        0.05914127, -0.10783019,  0.08254423,  0.05002126,  0.0563054 ,\n",
       "        0.00669937,  0.01313795, -0.01984946,  0.0278794 , -0.01576193,\n",
       "        0.10683466, -0.00351521,  0.00790435, -0.05772436, -0.06256083,\n",
       "       -0.04694873,  0.01620996,  0.01491577,  0.14098711,  0.01451973,\n",
       "        0.08336434,  0.00327697,  0.04125439,  0.03755949, -0.08805436,\n",
       "        0.06615317,  0.07343476, -0.03336911, -0.047387  , -0.04024169,\n",
       "       -0.05692615, -0.02779443,  0.00963889, -0.00675405,  0.02427134,\n",
       "       -0.01671375, -0.01296743,  0.08086442,  0.0215441 ,  0.03552279,\n",
       "       -0.07234437,  0.03071749, -0.03094115,  0.0484754 ,  0.03433476,\n",
       "        0.05055991,  0.02676706,  0.01470481, -0.01309649, -0.09648213,\n",
       "       -0.00409102,  0.00246822, -0.04936178, -0.05638219,  0.04788879,\n",
       "        0.12433694, -0.08170102, -0.166392  , -0.01854916, -0.01474006,\n",
       "        0.00271189, -0.02681986,  0.0731849 ,  0.04517079,  0.05960118,\n",
       "        0.01367374, -0.1121796 , -0.04749367,  0.03210196,  0.04780905,\n",
       "        0.0156839 ,  0.06079005,  0.09935585,  0.06933038,  0.0014939 ,\n",
       "       -0.07242616,  0.03764169, -0.00062446,  0.05841089, -0.02642185,\n",
       "       -0.01605304,  0.01221184, -0.01631593,  0.02651111, -0.03247298], dtype=float32)"
      ]
     },
     "execution_count": 65,
     "metadata": {},
     "output_type": "execute_result"
    }
   ],
   "source": [
    "model['computer']"
   ]
  },
  {
   "cell_type": "code",
   "execution_count": 68,
   "metadata": {
    "collapsed": false
   },
   "outputs": [
    {
     "data": {
      "text/plain": [
       "[(u'laptop', 0.6040568351745605),\n",
       " (u'macbook', 0.5490165948867798),\n",
       " (u'iphone', 0.5324757099151611),\n",
       " (u'keyboard', 0.5290461778640747),\n",
       " (u'pc', 0.5078140497207642),\n",
       " (u'imac', 0.5073572397232056),\n",
       " (u'desktop', 0.502971887588501),\n",
       " (u'mbp', 0.49664103984832764),\n",
       " (u'ipod', 0.49337923526763916),\n",
       " (u'dell', 0.48907965421676636)]"
      ]
     },
     "execution_count": 68,
     "metadata": {},
     "output_type": "execute_result"
    }
   ],
   "source": [
    " model.most_similar(positive=['computer','apple'], topn=10)"
   ]
  },
  {
   "cell_type": "code",
   "execution_count": 69,
   "metadata": {
    "collapsed": false
   },
   "outputs": [
    {
     "data": {
      "text/plain": [
       "array([ -3.41039784e-02,  -4.70374264e-02,  -4.07661945e-02,\n",
       "         8.40268750e-03,  -9.45763066e-02,   5.17686978e-02,\n",
       "         1.03190906e-01,  -7.39221200e-02,   1.92335173e-02,\n",
       "         1.10837325e-01,  -7.20966458e-02,  -3.18825729e-02,\n",
       "         4.28019166e-02,  -1.29578799e-01,  -2.79977489e-02,\n",
       "         2.61804014e-02,   1.25758117e-02,  -1.04767084e-03,\n",
       "         4.40758280e-02,   3.80624644e-02,   3.81986164e-02,\n",
       "         5.27986139e-02,  -1.92770176e-02,   8.19717124e-02,\n",
       "         1.80269498e-02,   1.43683022e-02,  -2.26007681e-03,\n",
       "         1.00035956e-02,   3.25097367e-02,  -5.91108128e-02,\n",
       "         2.01629046e-02,  -1.21579170e-01,   8.82816128e-03,\n",
       "        -5.04952669e-03,  -1.12351894e-01,  -3.05208787e-02,\n",
       "         3.19656059e-02,  -1.38771966e-01,   6.45952746e-02,\n",
       "         1.25794765e-02,  -9.18958113e-02,  -2.41458956e-02,\n",
       "         8.28427300e-02,  -5.06904423e-02,  -2.26705242e-02,\n",
       "         1.18737027e-01,  -7.07202852e-02,   9.09234732e-02,\n",
       "        -7.44225755e-02,  -4.14080210e-02,  -3.23991030e-02,\n",
       "        -2.45746784e-02,  -5.43768192e-03,  -1.49344817e-01,\n",
       "         1.40986362e-04,  -1.17946364e-01,   5.08732907e-02,\n",
       "        -2.53419410e-02,   2.77740546e-02,   1.26924552e-02,\n",
       "         1.15780979e-01,   3.69844097e-03,  -2.62260716e-02,\n",
       "         1.24251060e-01,   4.51470725e-02,   8.88165534e-02,\n",
       "        -3.56864519e-02,  -3.52518298e-02,  -8.96780416e-02,\n",
       "        -3.09336241e-02,  -2.29069106e-02,   9.97911859e-03,\n",
       "        -6.55386876e-03,   2.72517800e-02,  -1.23089114e-02,\n",
       "        -1.34660462e-02,   8.97271931e-02,   5.96798435e-02,\n",
       "        -5.77550493e-02,  -6.66470304e-02,  -1.06484015e-02,\n",
       "        -1.05608128e-01,  -4.94196750e-02,   1.22870371e-01,\n",
       "         1.78544130e-02,   8.38128254e-02,   5.66533394e-02,\n",
       "        -7.11663589e-02,   3.54377627e-02,   9.29236487e-02,\n",
       "         1.92019169e-03,  -3.00827380e-02,   3.45498286e-02,\n",
       "        -2.73558125e-02,  -6.52708709e-02,   2.86181513e-02,\n",
       "        -4.14705724e-02,  -4.82521579e-03,   3.66948061e-02,\n",
       "        -2.51714755e-02,   5.97398449e-03,   9.58478265e-03,\n",
       "        -1.31784737e-01,  -1.07313417e-01,  -1.00368939e-01,\n",
       "        -6.09470159e-02,  -7.22101610e-03,  -4.30484861e-02,\n",
       "         5.56084551e-02,   5.14806509e-02,  -1.11435995e-01,\n",
       "        -6.62578717e-02,  -7.18695149e-02,   8.68618339e-02,\n",
       "         3.68395709e-02,  -3.66087854e-02,  -2.15721745e-02,\n",
       "        -6.54510641e-03,  -5.34192920e-02,   8.04909095e-02,\n",
       "        -7.18028992e-02,  -5.75236082e-02,  -8.08406807e-03,\n",
       "         4.75016917e-04,   1.40444573e-03,   1.14446916e-01,\n",
       "         3.71726640e-02,   2.39897985e-02,  -1.26933992e-01,\n",
       "        -1.03549555e-01,  -7.73031116e-02,  -3.59307118e-02,\n",
       "         1.23509578e-01,   1.12475958e-02,  -4.21869196e-02,\n",
       "        -5.42611182e-02,  -3.58727053e-02,   1.10232800e-01,\n",
       "        -2.10268106e-02,   6.01631366e-02,   6.16538078e-02,\n",
       "         6.58435151e-02,  -1.20412279e-02,  -6.42103553e-02,\n",
       "        -1.18644319e-01,  -2.53585465e-02,   4.29002568e-02,\n",
       "        -2.98138130e-02,   8.43362361e-02,  -1.70003884e-02,\n",
       "         1.59890670e-02,  -5.52395657e-02,   4.61106524e-02,\n",
       "         4.45453040e-02,   1.01811342e-01,   4.24972586e-02,\n",
       "         1.10435002e-02,  -1.16682418e-01,  -3.67905642e-03,\n",
       "        -5.30746318e-02,  -7.17728361e-02,   2.16863398e-02,\n",
       "        -7.37390667e-02,   9.38589219e-03,   4.80243191e-02,\n",
       "         3.97253931e-02,   2.57599913e-02,   4.61869203e-02,\n",
       "        -1.09423941e-03,  -1.09683378e-02,  -1.42023461e-02,\n",
       "        -3.54994200e-02,   7.89208785e-02,  -6.02346286e-02,\n",
       "        -4.14251648e-02,  -8.32402706e-02,  -6.20030239e-02,\n",
       "        -5.70611507e-02,   9.47662443e-02,   5.94567657e-02,\n",
       "         2.83996463e-02,   8.52011889e-02,   5.67041412e-02,\n",
       "        -1.37706334e-02,   1.66654512e-01,  -5.28299659e-02,\n",
       "        -7.29363933e-02,   3.39080729e-02,  -1.68036437e-04,\n",
       "         5.88323884e-02,   7.09935427e-02,   8.61110613e-02,\n",
       "        -3.87147628e-02,   9.35228821e-03,  -1.47043988e-02,\n",
       "        -3.60907800e-02,   3.93910892e-02,   7.73162469e-02,\n",
       "        -4.37584072e-02,   7.17739388e-02,  -9.34450794e-03,\n",
       "         5.83972502e-03,   6.62362874e-02,   4.76279072e-02,\n",
       "        -5.08451760e-02,  -2.07732581e-02,   2.10886188e-02,\n",
       "        -2.26702336e-02,  -1.06644696e-02,   4.66578528e-02,\n",
       "         3.86663759e-03,  -4.03790697e-02,   5.00673801e-02,\n",
       "        -4.00360301e-02,  -5.17986901e-02,  -7.93500245e-02,\n",
       "        -1.25612533e-02,   6.97281957e-02,  -8.92208666e-02,\n",
       "        -2.29173824e-02,  -3.52493376e-02,   4.92189080e-02,\n",
       "         5.75902052e-02,  -1.46061098e-02,   7.22616315e-02,\n",
       "        -7.62109309e-02,   2.41920762e-02,   3.62466685e-02,\n",
       "         2.16786526e-02,  -1.13650896e-01,   7.29384972e-03,\n",
       "         5.95712988e-03,  -5.58805913e-02,  -1.08285295e-02,\n",
       "         5.51684126e-02,   2.94210315e-02,  -4.06025127e-02,\n",
       "        -1.88794881e-02,   6.22868352e-02,   2.49523041e-03,\n",
       "        -8.27923939e-02,   6.30962923e-02,   1.83207002e-02,\n",
       "         5.63466549e-02,  -1.28792645e-02,  -6.73329160e-02,\n",
       "         1.15372043e-03,   4.28528637e-02,  -8.91543329e-02,\n",
       "         1.46611169e-01,   3.92206721e-02,   8.85631982e-03,\n",
       "        -1.75402183e-02,   7.03072641e-03,   3.35489959e-02,\n",
       "        -2.44562682e-02,   1.23488091e-01,   1.15860840e-02,\n",
       "         1.15142897e-01,  -6.68388233e-02,   1.22414067e-01,\n",
       "        -1.59239362e-03,  -2.96366438e-02,   5.63132949e-02,\n",
       "         5.48827741e-03,  -8.03894084e-03,  -1.25123700e-02,\n",
       "         3.33638899e-02,  -2.48751454e-02,  -2.07697060e-02,\n",
       "         2.35389322e-02,   1.09706983e-01,  -1.70332361e-02,\n",
       "         2.14660987e-02,   1.48159796e-02,   5.02899028e-02,\n",
       "        -5.29124141e-02,  -4.57083657e-02,  -4.07456048e-02,\n",
       "        -3.01911291e-02], dtype=float32)"
      ]
     },
     "execution_count": 69,
     "metadata": {},
     "output_type": "execute_result"
    }
   ],
   "source": [
    "model['loook']"
   ]
  },
  {
   "cell_type": "code",
   "execution_count": 72,
   "metadata": {
    "collapsed": false
   },
   "outputs": [
    {
     "data": {
      "text/plain": [
       "[(u'hahaha', 0.6096524596214294),\n",
       " (u'lol', 0.5855266451835632),\n",
       " (u'hahahaha', 0.5758712887763977),\n",
       " (u'hahah', 0.5728620886802673),\n",
       " (u'ha', 0.5528308749198914),\n",
       " (u'ha_ha', 0.5428324937820435),\n",
       " (u'lmao', 0.5292174816131592),\n",
       " (u'hah', 0.5279834270477295),\n",
       " (u'ahaha', 0.5083060264587402),\n",
       " (u'hehe', 0.4958555996417999)]"
      ]
     },
     "execution_count": 72,
     "metadata": {},
     "output_type": "execute_result"
    }
   ],
   "source": [
    " model.most_similar(positive=['haha'], topn=10)"
   ]
  },
  {
   "cell_type": "code",
   "execution_count": 73,
   "metadata": {
    "collapsed": false
   },
   "outputs": [
    {
     "data": {
      "text/plain": [
       "[(u'woo_hoo', 0.540040910243988),\n",
       " (u'woohoo', 0.539691686630249),\n",
       " (u'hooray', 0.5061463117599487),\n",
       " (u'yayyy', 0.49870139360427856),\n",
       " (u'thank_god', 0.44012898206710815),\n",
       " (u'woo', 0.4388554096221924),\n",
       " (u'woot', 0.4364403486251831),\n",
       " (u'thank_goodness', 0.4350361227989197),\n",
       " (u'yayy', 0.43337586522102356),\n",
       " (u'yipee', 0.4279119372367859)]"
      ]
     },
     "execution_count": 73,
     "metadata": {},
     "output_type": "execute_result"
    }
   ],
   "source": [
    " model.most_similar(positive=['yay'], topn=10)"
   ]
  },
  {
   "cell_type": "code",
   "execution_count": 74,
   "metadata": {
    "collapsed": false
   },
   "outputs": [
    {
     "data": {
      "text/plain": [
       "[(u'facebook', 0.43771177530288696),\n",
       " (u'myspace_myspace_com', 0.33800941705703735),\n",
       " (u'automate_your_affiliate_marketing', 0.31869468092918396),\n",
       " (u'fbook', 0.31814044713974),\n",
       " (u'thewebhostinggeek_39_s', 0.30327725410461426),\n",
       " (u'our_facebook_page', 0.29117047786712646),\n",
       " (u'facebook_founder_mark', 0.283147394657135),\n",
       " (u'ftw', 0.2818997800350189),\n",
       " (u'pc4pc_comment_truth', 0.28025689721107483),\n",
       " (u'socialgood', 0.2778246998786926)]"
      ]
     },
     "execution_count": 74,
     "metadata": {},
     "output_type": "execute_result"
    }
   ],
   "source": [
    " model.most_similar(positive=['fb'], topn=10)"
   ]
  },
  {
   "cell_type": "code",
   "execution_count": 76,
   "metadata": {
    "collapsed": false
   },
   "outputs": [
    {
     "data": {
      "text/plain": [
       "[(u'for', 0.2899615466594696),\n",
       " (u'fot', 0.26385870575904846),\n",
       " (u'adobe_photoshop_cs4', 0.25329649448394775),\n",
       " (u'statutory', 0.24410253763198853),\n",
       " (u'rockwall', 0.24346378445625305),\n",
       " (u'never_happens', 0.2428201586008072),\n",
       " (u'complete_virtual', 0.2359333634376526),\n",
       " (u'brickhouse', 0.23538696765899658),\n",
       " (u'coffee_machine', 0.23466284573078156),\n",
       " (u'dodger_game', 0.23070889711380005)]"
      ]
     },
     "execution_count": 76,
     "metadata": {},
     "output_type": "execute_result"
    }
   ],
   "source": [
    " model.most_similar(positive=['fir'], topn=10)"
   ]
  },
  {
   "cell_type": "code",
   "execution_count": null,
   "metadata": {
    "collapsed": true
   },
   "outputs": [],
   "source": []
  }
 ],
 "metadata": {
  "kernelspec": {
   "display_name": "Python 2",
   "language": "python",
   "name": "python2"
  },
  "language_info": {
   "codemirror_mode": {
    "name": "ipython",
    "version": 2
   },
   "file_extension": ".py",
   "mimetype": "text/x-python",
   "name": "python",
   "nbconvert_exporter": "python",
   "pygments_lexer": "ipython2",
   "version": "2.7.11"
  }
 },
 "nbformat": 4,
 "nbformat_minor": 0
}
